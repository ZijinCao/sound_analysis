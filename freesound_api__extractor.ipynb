{
  "cells": [
    {
      "cell_type": "code",
      "execution_count": 1,
      "metadata": {
        "colab": {
          "base_uri": "https://localhost:8080/"
        },
        "id": "skRcB_IuMkFE",
        "outputId": "c7a71cd3-7645-4888-dc6d-162c0b4794a3"
      },
      "outputs": [
        {
          "output_type": "stream",
          "name": "stdout",
          "text": [
            "Collecting git+https://github.com/MTG/freesound-python\n",
            "  Cloning https://github.com/MTG/freesound-python to /tmp/pip-req-build-l9i0o1xp\n",
            "  Running command git clone --filter=blob:none --quiet https://github.com/MTG/freesound-python /tmp/pip-req-build-l9i0o1xp\n",
            "  Resolved https://github.com/MTG/freesound-python to commit 5be99a3689d17303c01cb122bbb0d5a96eba04f6\n",
            "  Installing build dependencies ... \u001b[?25l\u001b[?25hdone\n",
            "  Getting requirements to build wheel ... \u001b[?25l\u001b[?25hdone\n",
            "  Preparing metadata (pyproject.toml) ... \u001b[?25l\u001b[?25hdone\n",
            "Requirement already satisfied: requests<3.0,>2.27 in /usr/local/lib/python3.10/dist-packages (from freesound-python==1.1) (2.31.0)\n",
            "Requirement already satisfied: charset-normalizer<4,>=2 in /usr/local/lib/python3.10/dist-packages (from requests<3.0,>2.27->freesound-python==1.1) (3.3.2)\n",
            "Requirement already satisfied: idna<4,>=2.5 in /usr/local/lib/python3.10/dist-packages (from requests<3.0,>2.27->freesound-python==1.1) (3.6)\n",
            "Requirement already satisfied: urllib3<3,>=1.21.1 in /usr/local/lib/python3.10/dist-packages (from requests<3.0,>2.27->freesound-python==1.1) (2.0.7)\n",
            "Requirement already satisfied: certifi>=2017.4.17 in /usr/local/lib/python3.10/dist-packages (from requests<3.0,>2.27->freesound-python==1.1) (2024.2.2)\n",
            "Building wheels for collected packages: freesound-python\n",
            "  Building wheel for freesound-python (pyproject.toml) ... \u001b[?25l\u001b[?25hdone\n",
            "  Created wheel for freesound-python: filename=freesound_python-1.1-py3-none-any.whl size=6714 sha256=64edda211012bd63e4d0887a7e0ccda9e67ea7e34a6992b56e9f4b7556dfb46e\n",
            "  Stored in directory: /tmp/pip-ephem-wheel-cache-1fkunnrd/wheels/dc/c8/27/88211ef4ed95f2a550e37a5391838b1351782509677b1545af\n",
            "Successfully built freesound-python\n",
            "Installing collected packages: freesound-python\n",
            "Successfully installed freesound-python-1.1\n"
          ]
        }
      ],
      "source": [
        "!pip install git+https://github.com/MTG/freesound-python"
      ]
    },
    {
      "cell_type": "markdown",
      "source": [],
      "metadata": {
        "id": "qlWEVZz_O1We"
      }
    },
    {
      "cell_type": "code",
      "execution_count": 4,
      "metadata": {
        "colab": {
          "base_uri": "https://localhost:8080/",
          "height": 35
        },
        "id": "I5KD5y0ejBiW",
        "outputId": "66e6b6c6-57b3-4d5a-f655-8c89a3027fe2"
      },
      "outputs": [
        {
          "output_type": "stream",
          "name": "stderr",
          "text": [
            "Analyzing sounds: 100%|██████████| 400/400 [07:11<00:00,  1.08s/it]\n"
          ]
        },
        {
          "output_type": "display_data",
          "data": {
            "text/plain": [
              "<IPython.core.display.Javascript object>"
            ],
            "application/javascript": [
              "\n",
              "    async function download(id, filename, size) {\n",
              "      if (!google.colab.kernel.accessAllowed) {\n",
              "        return;\n",
              "      }\n",
              "      const div = document.createElement('div');\n",
              "      const label = document.createElement('label');\n",
              "      label.textContent = `Downloading \"${filename}\": `;\n",
              "      div.appendChild(label);\n",
              "      const progress = document.createElement('progress');\n",
              "      progress.max = size;\n",
              "      div.appendChild(progress);\n",
              "      document.body.appendChild(div);\n",
              "\n",
              "      const buffers = [];\n",
              "      let downloaded = 0;\n",
              "\n",
              "      const channel = await google.colab.kernel.comms.open(id);\n",
              "      // Send a message to notify the kernel that we're ready.\n",
              "      channel.send({})\n",
              "\n",
              "      for await (const message of channel.messages) {\n",
              "        // Send a message to notify the kernel that we're ready.\n",
              "        channel.send({})\n",
              "        if (message.buffers) {\n",
              "          for (const buffer of message.buffers) {\n",
              "            buffers.push(buffer);\n",
              "            downloaded += buffer.byteLength;\n",
              "            progress.value = downloaded;\n",
              "          }\n",
              "        }\n",
              "      }\n",
              "      const blob = new Blob(buffers, {type: 'application/binary'});\n",
              "      const a = document.createElement('a');\n",
              "      a.href = window.URL.createObjectURL(blob);\n",
              "      a.download = filename;\n",
              "      div.appendChild(a);\n",
              "      a.click();\n",
              "      div.remove();\n",
              "    }\n",
              "  "
            ]
          },
          "metadata": {}
        },
        {
          "output_type": "display_data",
          "data": {
            "text/plain": [
              "<IPython.core.display.Javascript object>"
            ],
            "application/javascript": [
              "download(\"download_4e236e79-2a3f-4013-bf6d-938d3e885b2c\", \"['happy'].json\", 31521550)"
            ]
          },
          "metadata": {}
        }
      ],
      "source": [
        "import requests\n",
        "import os\n",
        "import json\n",
        "import pandas as pd\n",
        "from tqdm import tqdm\n",
        "from google.colab import files\n",
        "from requests_oauthlib import OAuth2Session\n",
        "from freesound import FreesoundClient\n",
        "import time\n",
        "\n",
        "CLIENT_ID = 'xxx'                    ###Enter your freesound 'Client id' from 'Freesound API credentials'###\n",
        "API_KEY = 'xxx'  ###Enter your freesound 'Client secret/Api key' from 'Freesound API credentials'###\n",
        "\n",
        "# Set up the Freesound client\n",
        "client = FreesoundClient()\n",
        "client.set_token(API_KEY, \"token\")\n",
        "\n",
        "# Specify the desired query and fields\n",
        "query = [\"happy\"]                                     ###Request a label, for example, happy###\n",
        "fields = \"id,name,previews,tags,analysis\"\n",
        "\n",
        "# Specify the number of sounds to analyze\n",
        "total_sounds_to_analyze = 400                         ###Request number here###\n",
        "\n",
        "# Counter for analyzed sounds\n",
        "analyzed_sounds = 0\n",
        "\n",
        "# Counter for current page\n",
        "current_page = 1\n",
        "\n",
        "# List to store results\n",
        "results_list = []\n",
        "\n",
        "# Loop until the desired number of sounds is analyzed\n",
        "with tqdm(total=total_sounds_to_analyze, desc=\"Analyzing sounds\") as pbar:\n",
        "    while analyzed_sounds < total_sounds_to_analyze:\n",
        "        try:\n",
        "            # Perform a text search for the query with specified fields and page\n",
        "            results = client.text_search(query=query, fields=fields, page=current_page)\n",
        "\n",
        "            # Loop through the results and get analysis for each sound\n",
        "            for sound in results:\n",
        "                try:\n",
        "                    # Get the preview link directly from the API\n",
        "                    mp3_link = sound.previews.preview_lq_mp3 if hasattr(sound.previews, 'preview_lq_mp3') else None\n",
        "\n",
        "                    # Get the analysis for the sound with retries\n",
        "                    retry_count = 0\n",
        "                    max_retries = 3\n",
        "                    while retry_count < max_retries:\n",
        "                        try:\n",
        "                            analysis = sound.get_analysis()\n",
        "                            break\n",
        "                        except Exception as e:\n",
        "                            retry_count += 1\n",
        "                            time.sleep(3)  # Wait for 3 second before retrying\n",
        "\n",
        "                    # Convert the analysis to a dictionary\n",
        "                    analysis_dict = analysis.as_dict() if analysis else None\n",
        "\n",
        "                    # Include additional sound information\n",
        "                    sound_info = {\n",
        "                        \"query\": query,\n",
        "                        \"id\": sound.id,\n",
        "                        \"name\": sound.name,\n",
        "                        \"previews\": mp3_link,\n",
        "                        \"tags\": sound.tags,\n",
        "                        \"analysis\": analysis_dict,\n",
        "                        # Include other fields as needed\n",
        "                    }\n",
        "\n",
        "                    # Append the dictionary to the results list\n",
        "                    results_list.append(sound_info)\n",
        "\n",
        "                    # Increment the counters\n",
        "                    analyzed_sounds += 1\n",
        "                    pbar.update(1)\n",
        "\n",
        "                    # If the desired number of sounds is analyzed, break out of the loop\n",
        "                    if analyzed_sounds >= total_sounds_to_analyze:\n",
        "                        break\n",
        "\n",
        "                except Exception as e:\n",
        "                    print(f\"Warning: Error analyzing sound with ID {sound.id}. {e}\")\n",
        "                    continue\n",
        "\n",
        "            # Increment the page counter for the next request\n",
        "            current_page += 1\n",
        "            # Introduce a longer delay to avoid hitting the rate limit\n",
        "            time.sleep(2)\n",
        "\n",
        "        except Exception as e:\n",
        "            # Handle the case where no more sounds are found\n",
        "            if \"Rate limit exceeded\" in str(e):\n",
        "                print(\"Rate limit exceeded. Waiting for 60 seconds before retrying.\")\n",
        "                time.sleep(60)  # Wait for 60 seconds before retrying\n",
        "                continue\n",
        "            else:\n",
        "                print(f\"Warning: Only {analyzed_sounds} sounds found. {e}\")\n",
        "                break\n",
        "\n",
        "# Specify the JSON file name\n",
        "json_file = f\"{query}.json\"\n",
        "\n",
        "# Write the results to the JSON file\n",
        "with open(json_file, mode=\"w\", encoding=\"utf-8\") as file:\n",
        "    json.dump(results_list, file, indent=2, default=str)  # Use default=str to handle non-serializable types\n",
        "\n",
        "# Download the file to the local machine\n",
        "files.download(json_file)\n"
      ]
    }
  ],
  "metadata": {
    "colab": {
      "provenance": []
    },
    "kernelspec": {
      "display_name": "Python 3",
      "name": "python3"
    },
    "language_info": {
      "name": "python"
    }
  },
  "nbformat": 4,
  "nbformat_minor": 0
}